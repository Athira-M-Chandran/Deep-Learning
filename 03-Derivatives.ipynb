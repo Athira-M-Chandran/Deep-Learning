{
 "cells": [
  {
   "cell_type": "markdown",
   "metadata": {},
   "source": [
    "> **Slope, Derivative and partial derivative**"
   ]
  },
  {
   "cell_type": "markdown",
   "metadata": {},
   "source": [
    "<table>\n",
    "<tr>\n",
    "<th>Slope</th>\n",
    "<th>Derivative</th>\n",
    "</tr>\n",
    "<tr>\n",
    "<td> Used for Linear Equation</td>\n",
    "<td>Used for non linear equation</td>\n",
    "</tr>\n",
    "<tr>\n",
    "<td>It is constant</td>\n",
    "<td>It us a function</td>\n",
    "</tr>\n",
    "\n",
    "</table>"
   ]
  },
  {
   "cell_type": "markdown",
   "metadata": {},
   "source": [
    ">derivative of x^2 = 2x<br>\n",
    "x^3 is 3x^2 <br>\n",
    "> **Partial derivative**<br>\n",
    "f(x,y) = x^3 + y^2<br>\n",
    "partial derivative with respect to x = 3x^2<br>\n",
    "partial derivative with respect to y = 2y\n"
   ]
  },
  {
   "cell_type": "markdown",
   "metadata": {},
   "source": [
    "For example, in house price prediction,<br>\n",
    "f(bedrooms,sqrft) = bedrooms^3 + sqrft^2\n",
    "\n",
    "Price over bedrooms = 3*bedrooms ^2\n",
    "*How much a price is changing given a change in bedroom*"
   ]
  },
  {
   "cell_type": "markdown",
   "metadata": {},
   "source": [
    "Practice more derivative questions by clicking on link below,<br>\n",
    "<a href = \"https://www.mathopolis.com/questions/q.html?id=6800&t=mif&qs=6800_6801_6802_6803_6804_6805_6806_6807_6808_6809_6810_6811_6812&site=1&ref=2f63616c63756c75732f64657269766174697665732d72756c65732e68746d6c&title=446572697661746976652052756c6573\" >Derivative Exercise</a><br>\n",
    "\n",
    "<br>\n",
    "Also practice partial derivative questions by clicking on link below,<br>\n",
    "<a href = \"https://www.mathopolis.com/questions/q.html?id=13373&t=mif&qs=13373_13374_13375_13376_13377_13378_13379_13380_13381_13382_13383&site=1&ref=2f63616c63756c75732f64657269766174697665732d7061727469616c2e68746d6c&title=5061727469616c204465726976617469766573\">Partial Derivatives Exercise</a>"
   ]
  },
  {
   "cell_type": "markdown",
   "metadata": {},
   "source": []
  }
 ],
 "metadata": {
  "language_info": {
   "name": "python"
  },
  "orig_nbformat": 4
 },
 "nbformat": 4,
 "nbformat_minor": 2
}
