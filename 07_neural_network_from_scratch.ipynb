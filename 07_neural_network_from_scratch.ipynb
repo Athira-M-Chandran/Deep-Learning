{
 "cells": [
  {
   "cell_type": "code",
   "execution_count": null,
   "metadata": {},
   "outputs": [],
   "source": [
    "from datetime import date\n",
    "\n",
    "change_date = date.today()\n",
    "from datetime import timedelta\n",
    "for i in range(1,8):\n",
    "    print(change_date-timedelta(days = i))\n"
   ]
  }
 ],
 "metadata": {
  "language_info": {
   "name": "python"
  },
  "orig_nbformat": 4
 },
 "nbformat": 4,
 "nbformat_minor": 2
}
