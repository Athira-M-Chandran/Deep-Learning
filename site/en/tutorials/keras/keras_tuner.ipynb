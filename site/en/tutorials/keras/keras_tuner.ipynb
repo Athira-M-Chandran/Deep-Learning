{
  "cells": [
    {
      "cell_type": "markdown",
      "metadata": {
        "id": "Tce3stUlHN0L"
      },
      "source": [
        "##### Copyright 2020 The TensorFlow Authors."
      ]
    },
    {
      "cell_type": "code",
      "execution_count": null,
      "metadata": {
        "cellView": "form",
        "id": "tuOe1ymfHZPu"
      },
      "outputs": [],
      "source": [
        "#@title Licensed under the Apache License, Version 2.0 (the \"License\");\n",
        "# you may not use this file except in compliance with the License.\n",
        "# You may obtain a copy of the License at\n",
        "#\n",
        "# https://www.apache.org/licenses/LICENSE-2.0\n",
        "#\n",
        "# Unless required by applicable law or agreed to in writing, software\n",
        "# distributed under the License is distributed on an \"AS IS\" BASIS,\n",
        "# WITHOUT WARRANTIES OR CONDITIONS OF ANY KIND, either express or implied.\n",
        "# See the License for the specific language governing permissions and\n",
        "# limitations under the License."
      ]
    },
    {
      "cell_type": "markdown",
      "metadata": {
        "id": "qFdPvlXBOdUN"
      },
      "source": [
        "# Introduction to the Keras Tuner"
      ]
    },
    {
      "cell_type": "markdown",
      "metadata": {
        "id": "MfBg1C5NB3X0"
      },
      "source": [
        "<table class=\"tfo-notebook-buttons\" align=\"left\">\n",
        "  <td>\n",
        "    <a target=\"_blank\" href=\"https://www.tensorflow.org/tutorials/keras/keras_tuner\"><img src=\"https://www.tensorflow.org/images/tf_logo_32px.png\" />View on TensorFlow.org</a>\n",
        "  </td>\n",
        "  <td>\n",
        "    <a target=\"_blank\" href=\"https://colab.research.google.com/github/tensorflow/docs/blob/master/site/en/tutorials/keras/keras_tuner.ipynb\"><img src=\"https://www.tensorflow.org/images/colab_logo_32px.png\" />Run in Google Colab</a>\n",
        "  </td>\n",
        "  <td>\n",
        "    <a target=\"_blank\" href=\"https://github.com/tensorflow/docs/blob/master/site/en/tutorials/keras/keras_tuner.ipynb\"><img src=\"https://www.tensorflow.org/images/GitHub-Mark-32px.png\" />View source on GitHub</a>\n",
        "  </td>\n",
        "  <td>\n",
        "    <a href=\"https://storage.googleapis.com/tensorflow_docs/docs/site/en/tutorials/keras/keras_tuner.ipynb\"><img src=\"https://www.tensorflow.org/images/download_logo_32px.png\" />Download notebook</a>\n",
        "  </td>\n",
        "</table>"
      ]
    },
    {
      "cell_type": "markdown",
      "metadata": {
        "id": "xHxb-dlhMIzW"
      },
      "source": [
        "## Overview\n",
        "\n",
        "The Keras Tuner is a library that helps you pick the optimal set of hyperparameters for your TensorFlow program. The process of selecting the right set of hyperparameters for your machine learning (ML) application is called *hyperparameter tuning* or *hypertuning*.\n",
        "\n",
        "Hyperparameters are the variables that govern the training process and the topology of an ML model. These variables remain constant over the training process and directly impact the performance of your ML program. Hyperparameters are of two types:\n",
        "1. **Model hyperparameters** which influence model selection such as the number and width of hidden layers\n",
        "2. **Algorithm hyperparameters** which influence the speed and quality of the learning algorithm such as the learning rate for Stochastic Gradient Descent (SGD) and the number of nearest neighbors for a k Nearest Neighbors (KNN) classifier\n",
        "\n",
        "In this tutorial, you will use the Keras Tuner to perform hypertuning for an image classification application."
      ]
    },
    {
      "cell_type": "markdown",
      "metadata": {
        "id": "MUXex9ctTuDB"
      },
      "source": [
        "## Setup"
      ]
    },
    {
      "cell_type": "code",
      "execution_count": 1,
      "metadata": {
        "id": "IqR2PQG4ZaZ0"
      },
      "outputs": [],
      "source": [
        "import tensorflow as tf\n",
        "from tensorflow import keras"
      ]
    },
    {
      "cell_type": "markdown",
      "metadata": {
        "id": "g83Lwsy-Aq2_"
      },
      "source": [
        "Install and import the Keras Tuner."
      ]
    },
    {
      "cell_type": "code",
      "execution_count": 2,
      "metadata": {
        "id": "hpMLpbt9jcO6",
        "outputId": "b18352db-0423-40eb-ee00-44721f8c846b",
        "colab": {
          "base_uri": "https://localhost:8080/"
        }
      },
      "outputs": [
        {
          "output_type": "stream",
          "name": "stdout",
          "text": [
            "\u001b[K     |████████████████████████████████| 135 kB 12.6 MB/s \n",
            "\u001b[K     |████████████████████████████████| 1.6 MB 44.2 MB/s \n",
            "\u001b[?25h"
          ]
        }
      ],
      "source": [
        "!pip install -q -U keras-tuner"
      ]
    },
    {
      "cell_type": "code",
      "execution_count": 3,
      "metadata": {
        "id": "_leAIdFKAxAD"
      },
      "outputs": [],
      "source": [
        "import keras_tuner as kt"
      ]
    },
    {
      "cell_type": "markdown",
      "metadata": {
        "id": "ReV_UXOgCZvx"
      },
      "source": [
        "## Download and prepare the dataset\n",
        "\n",
        "In this tutorial, you will use the Keras Tuner to find the best hyperparameters for a machine learning model that classifies images of clothing from the [Fashion MNIST dataset](https://github.com/zalandoresearch/fashion-mnist)."
      ]
    },
    {
      "cell_type": "markdown",
      "metadata": {
        "id": "HljH_ENLEdHa"
      },
      "source": [
        "Load the data."
      ]
    },
    {
      "cell_type": "code",
      "execution_count": 4,
      "metadata": {
        "id": "OHlHs9Wj_PUM",
        "outputId": "b7751c11-db8b-4c68-e5e5-7abcbc5d8748",
        "colab": {
          "base_uri": "https://localhost:8080/"
        }
      },
      "outputs": [
        {
          "output_type": "stream",
          "name": "stdout",
          "text": [
            "Downloading data from https://storage.googleapis.com/tensorflow/tf-keras-datasets/train-labels-idx1-ubyte.gz\n",
            "29515/29515 [==============================] - 0s 0us/step\n",
            "Downloading data from https://storage.googleapis.com/tensorflow/tf-keras-datasets/train-images-idx3-ubyte.gz\n",
            "26421880/26421880 [==============================] - 2s 0us/step\n",
            "Downloading data from https://storage.googleapis.com/tensorflow/tf-keras-datasets/t10k-labels-idx1-ubyte.gz\n",
            "5148/5148 [==============================] - 0s 0us/step\n",
            "Downloading data from https://storage.googleapis.com/tensorflow/tf-keras-datasets/t10k-images-idx3-ubyte.gz\n",
            "4422102/4422102 [==============================] - 0s 0us/step\n"
          ]
        }
      ],
      "source": [
        "(img_train, label_train), (img_test, label_test) = keras.datasets.fashion_mnist.load_data()"
      ]
    },
    {
      "cell_type": "code",
      "source": [
        "img_train.shape"
      ],
      "metadata": {
        "id": "yoy9WLPo9hN_",
        "outputId": "9244c92e-c6d9-4e76-d285-3b07dda6a96f",
        "colab": {
          "base_uri": "https://localhost:8080/"
        }
      },
      "execution_count": 5,
      "outputs": [
        {
          "output_type": "execute_result",
          "data": {
            "text/plain": [
              "(60000, 28, 28)"
            ]
          },
          "metadata": {},
          "execution_count": 5
        }
      ]
    },
    {
      "cell_type": "code",
      "source": [
        "img_train[0].shape"
      ],
      "metadata": {
        "id": "0Yq9kwWJ9Jju",
        "outputId": "cbf42176-78b7-4017-859b-497ecee028c7",
        "colab": {
          "base_uri": "https://localhost:8080/"
        }
      },
      "execution_count": 6,
      "outputs": [
        {
          "output_type": "execute_result",
          "data": {
            "text/plain": [
              "(28, 28)"
            ]
          },
          "metadata": {},
          "execution_count": 6
        }
      ]
    },
    {
      "cell_type": "code",
      "source": [
        "label_train.shape"
      ],
      "metadata": {
        "id": "Hq8RkdVg9bLy",
        "outputId": "1a7f6b7d-f6d0-4460-d643-cd33e17e57ee",
        "colab": {
          "base_uri": "https://localhost:8080/"
        }
      },
      "execution_count": 7,
      "outputs": [
        {
          "output_type": "execute_result",
          "data": {
            "text/plain": [
              "(60000,)"
            ]
          },
          "metadata": {},
          "execution_count": 7
        }
      ]
    },
    {
      "cell_type": "code",
      "source": [
        "label_test"
      ],
      "metadata": {
        "id": "FF3cOBA09vsN",
        "outputId": "32128a26-f00a-4abc-a63a-58e2e9d53adb",
        "colab": {
          "base_uri": "https://localhost:8080/"
        }
      },
      "execution_count": 8,
      "outputs": [
        {
          "output_type": "execute_result",
          "data": {
            "text/plain": [
              "array([9, 2, 1, ..., 8, 1, 5], dtype=uint8)"
            ]
          },
          "metadata": {},
          "execution_count": 8
        }
      ]
    },
    {
      "cell_type": "code",
      "source": [
        "import matplotlib.pyplot as plt\n",
        "for i in range(10):\n",
        "  plt.imshow(img_train[i],cmap='binary')\n",
        "  plt.axis('off')\n",
        "  plt.show()"
      ],
      "metadata": {
        "id": "jpfSbmIB-F6H",
        "outputId": "1253bb59-72c3-4a6b-a0f7-00d37f8477e1",
        "colab": {
          "base_uri": "https://localhost:8080/",
          "height": 1000
        }
      },
      "execution_count": 9,
      "outputs": [
        {
          "output_type": "display_data",
          "data": {
            "text/plain": [
              "<Figure size 432x288 with 1 Axes>"
            ],
            "image/png": "[encoded data removed]"
          },
          "metadata": {
            "needs_background": "light"
          }
        },
        {
          "output_type": "display_data",
          "data": {
            "text/plain": [
              "<Figure size 432x288 with 1 Axes>"
            ],
            "image/png": "[encoded data removed]"
          },
          "metadata": {
            "needs_background": "light"
          }
        },
        {
          "output_type": "display_data",
          "data": {
            "text/plain": [
              "<Figure size 432x288 with 1 Axes>"
            ],
            "image/png": "[encoded data removed]"
          },
          "metadata": {
            "needs_background": "light"
          }
        },
        {
          "output_type": "display_data",
          "data": {
            "text/plain": [
              "<Figure size 432x288 with 1 Axes>"
            ],
            "image/png": "[encoded data removed]"
          },
          "metadata": {
            "needs_background": "light"
          }
        },
        {
          "output_type": "display_data",
          "data": {
            "text/plain": [
              "<Figure size 432x288 with 1 Axes>"
            ],
            "image/png": "[encoded data removed]"
          },
          "metadata": {
            "needs_background": "light"
          }
        },
        {
          "output_type": "display_data",
          "data": {
            "text/plain": [
              "<Figure size 432x288 with 1 Axes>"
            ],
            "image/png": "[encoded data removed]"
          },
          "metadata": {
            "needs_background": "light"
          }
        },
        {
          "output_type": "display_data",
          "data": {
            "text/plain": [
              "<Figure size 432x288 with 1 Axes>"
            ],
            "image/png": "[encoded data removed]"
          },
          "metadata": {
            "needs_background": "light"
          }
        },
        {
          "output_type": "display_data",
          "data": {
            "text/plain": [
              "<Figure size 432x288 with 1 Axes>"
            ],
            "image/png": "[encoded data removed]"
          },
          "metadata": {
            "needs_background": "light"
          }
        },
        {
          "output_type": "display_data",
          "data": {
            "text/plain": [
              "<Figure size 432x288 with 1 Axes>"
            ],
            "image/png": "[encoded data removed]"
          },
          "metadata": {
            "needs_background": "light"
          }
        },
        {
          "output_type": "display_data",
          "data": {
            "text/plain": [
              "<Figure size 432x288 with 1 Axes>"
            ],
            "image/png": "[encoded data removed]"
          },
          "metadata": {
            "needs_background": "light"
          }
        }
      ]
    },
    {
      "cell_type": "code",
      "execution_count": 10,
      "metadata": {
        "id": "bLVhXs3xrUD0"
      },
      "outputs": [],
      "source": [
        "# Normalize pixel values between 0 and 1\n",
        "img_train = img_train.astype('float32') / 255.0\n",
        "img_test = img_test.astype('float32') / 255.0"
      ]
    },
    {
      "cell_type": "markdown",
      "metadata": {
        "id": "K5YEL2H2Ax3e"
      },
      "source": [
        "## Define the model\n",
        "\n",
        "When you build a model for hypertuning, you also define the hyperparameter search space in addition to the model architecture. The model you set up for hypertuning is called a *hypermodel*.\n",
        "\n",
        "You can define a hypermodel through two approaches:\n",
        "\n",
        "* By using a model builder function\n",
        "* By subclassing the `HyperModel` class of the Keras Tuner API\n",
        "\n",
        "You can also use two pre-defined [HyperModel](https://keras.io/api/keras_tuner/hypermodels/) classes - [HyperXception](https://keras.io/api/keras_tuner/hypermodels/hyper_xception/) and [HyperResNet](https://keras.io/api/keras_tuner/hypermodels/hyper_resnet/) for computer vision applications.\n",
        "\n",
        "In this tutorial, you use a model builder function to define the image classification model. The model builder function returns a compiled model and uses hyperparameters you define inline to hypertune the model."
      ]
    },
    {
      "cell_type": "code",
      "execution_count": 11,
      "metadata": {
        "id": "ZQKodC-jtsva"
      },
      "outputs": [],
      "source": [
        "def model_builder(hp):\n",
        "  model = keras.Sequential()\n",
        "  model.add(keras.layers.Flatten(input_shape=(28, 28)))\n",
        "\n",
        "  # Tune the number of units in the first Dense layer\n",
        "  # Choose an optimal value between 32-512\n",
        "  # first hidden layer\n",
        "  hp_units = hp.Int('units', min_value=32, max_value=512, step=32)\n",
        "  # second hidden layer\n",
        "  hp_units2 = hp.Int('units2', min_value=32, max_value=512, step=32)\n",
        "  # third hidden layer\n",
        "  hp_units3 = hp.Int('units3', min_value=32, max_value=512, step=32)\n",
        "  model.add(keras.layers.Dense(units=hp_units, activation='relu'))\n",
        "  model.add(keras.layers.Dense(units=hp_units2, activation='relu'))\n",
        "  model.add(keras.layers.Dense(units=hp_units3, activation='relu'))\n",
        "  # output layer\n",
        "  model.add(keras.layers.Dense(10))\n",
        "\n",
        "  # Tune the learning rate for the optimizer\n",
        "  # Choose an optimal value from 0.01, 0.001, or 0.0001\n",
        "  hp_learning_rate = hp.Choice('learning_rate', values=[1e-2, 1e-3, 1e-4])\n",
        "\n",
        "  model.compile(optimizer=keras.optimizers.Adam(learning_rate=hp_learning_rate),\n",
        "                loss=keras.losses.SparseCategoricalCrossentropy(from_logits=True),\n",
        "                metrics=['accuracy'])\n",
        "\n",
        "  return model"
      ]
    },
    {
      "cell_type": "markdown",
      "metadata": {
        "id": "0J1VYw4q3x0b"
      },
      "source": [
        "## Instantiate the tuner and perform hypertuning\n",
        "\n",
        "Instantiate the tuner to perform the hypertuning. The Keras Tuner has four tuners available - `RandomSearch`, `Hyperband`, `BayesianOptimization`, and `Sklearn`. In this tutorial, you use the [Hyperband](https://arxiv.org/pdf/1603.06560.pdf) tuner.\n",
        "\n",
        "To instantiate the Hyperband tuner, you must specify the hypermodel, the `objective` to optimize and the maximum number of epochs to train (`max_epochs`)."
      ]
    },
    {
      "cell_type": "code",
      "execution_count": 12,
      "metadata": {
        "id": "oichQFly6Y46"
      },
      "outputs": [],
      "source": [
        "tuner = kt.Hyperband(model_builder,\n",
        "                     objective='val_accuracy',\n",
        "                     max_epochs=10,\n",
        "                     factor=3,\n",
        "                     directory='my_dir',\n",
        "                     project_name='intro_to_kt')"
      ]
    },
    {
      "cell_type": "markdown",
      "metadata": {
        "id": "VaIhhdKf9VtI"
      },
      "source": [
        "The Hyperband tuning algorithm uses adaptive resource allocation and early-stopping to quickly converge on a high-performing model. This is done using a sports championship style bracket. The algorithm trains a large number of models for a few epochs and carries forward only the top-performing half of models to the next round. Hyperband determines the number of models to train in a bracket by computing 1 + log<sub>`factor`</sub>(`max_epochs`) and rounding it up to the nearest integer."
      ]
    },
    {
      "cell_type": "markdown",
      "metadata": {
        "id": "cwhBdXx0Ekj8"
      },
      "source": [
        "Create a callback to stop training early after reaching a certain value for the validation loss."
      ]
    },
    {
      "cell_type": "code",
      "execution_count": 13,
      "metadata": {
        "id": "WT9IkS9NEjLc"
      },
      "outputs": [],
      "source": [
        "stop_early = tf.keras.callbacks.EarlyStopping(monitor='val_loss', patience=5)"
      ]
    },
    {
      "cell_type": "markdown",
      "metadata": {
        "id": "UKghEo15Tduy"
      },
      "source": [
        "Run the hyperparameter search. The arguments for the search method are the same as those used for `tf.keras.model.fit` in addition to the callback above."
      ]
    },
    {
      "cell_type": "code",
      "execution_count": 14,
      "metadata": {
        "id": "dSBQcTHF9cKt",
        "outputId": "3b50fa9e-0003-4e94-a519-56c6b252703e",
        "colab": {
          "base_uri": "https://localhost:8080/"
        }
      },
      "outputs": [
        {
          "output_type": "stream",
          "name": "stdout",
          "text": [
            "Trial 30 Complete [00h 01m 23s]\n",
            "val_accuracy: 0.8805000185966492\n",
            "\n",
            "Best val_accuracy So Far: 0.893750011920929\n",
            "Total elapsed time: 00h 11m 55s\n",
            "\n",
            "The hyperparameter search is complete. The optimal number of units in the first densely-connected\n",
            "layer is 320 and the optimal learning rate for the optimizer\n",
            "is 0.001.\n",
            "\n"
          ]
        }
      ],
      "source": [
        "tuner.search(img_train, label_train, epochs=50, validation_split=0.2, callbacks=[stop_early])\n",
        "\n",
        "# Get the optimal hyperparameters\n",
        "best_hps=tuner.get_best_hyperparameters(num_trials=1)[0]\n",
        "\n",
        "print(f\"\"\"\n",
        "The hyperparameter search is complete. The optimal number of units in the first densely-connected\n",
        "layer is {best_hps.get('units')} and the optimal learning rate for the optimizer\n",
        "is {best_hps.get('learning_rate')}.\n",
        "\"\"\")\n",
        "\n"
      ]
    },
    {
      "cell_type": "code",
      "source": [
        "# best hyper paramerts are:\n",
        "\n",
        "for p in ['units','units2','units3','learning_rate']:\n",
        "  print(p,tuner.get_best_hyperparameters()[0].get(p))"
      ],
      "metadata": {
        "id": "YF3LjKbyD9x-",
        "outputId": "5f6bf8ae-3bb6-420b-f105-08abdfd4a6d6",
        "colab": {
          "base_uri": "https://localhost:8080/"
        }
      },
      "execution_count": 15,
      "outputs": [
        {
          "output_type": "stream",
          "name": "stdout",
          "text": [
            "units 320\n",
            "units2 128\n",
            "units3 64\n",
            "learning_rate 0.001\n"
          ]
        }
      ]
    },
    {
      "cell_type": "markdown",
      "metadata": {
        "id": "Lak_ylf88xBv"
      },
      "source": [
        "## Train the model\n",
        "\n",
        "Find the optimal number of epochs to train the model with the hyperparameters obtained from the search."
      ]
    },
    {
      "cell_type": "code",
      "execution_count": 16,
      "metadata": {
        "id": "McO82AXOuxXh",
        "outputId": "690491df-96a8-4976-f0ce-c6e0b9c4e67b",
        "colab": {
          "base_uri": "https://localhost:8080/"
        }
      },
      "outputs": [
        {
          "output_type": "stream",
          "name": "stdout",
          "text": [
            "Epoch 1/50\n",
            "1500/1500 [==============================] - 6s 3ms/step - loss: 0.5068 - accuracy: 0.8177 - val_loss: 0.4206 - val_accuracy: 0.8467\n",
            "Epoch 2/50\n",
            "1500/1500 [==============================] - 4s 3ms/step - loss: 0.3793 - accuracy: 0.8608 - val_loss: 0.3898 - val_accuracy: 0.8549\n",
            "Epoch 3/50\n",
            "1500/1500 [==============================] - 4s 3ms/step - loss: 0.3366 - accuracy: 0.8749 - val_loss: 0.3498 - val_accuracy: 0.8735\n",
            "Epoch 4/50\n",
            "1500/1500 [==============================] - 4s 3ms/step - loss: 0.3141 - accuracy: 0.8820 - val_loss: 0.3650 - val_accuracy: 0.8737\n",
            "Epoch 5/50\n",
            "1500/1500 [==============================] - 4s 3ms/step - loss: 0.2929 - accuracy: 0.8910 - val_loss: 0.3272 - val_accuracy: 0.8825\n",
            "Epoch 6/50\n",
            "1500/1500 [==============================] - 4s 3ms/step - loss: 0.2807 - accuracy: 0.8949 - val_loss: 0.3497 - val_accuracy: 0.8777\n",
            "Epoch 7/50\n",
            "1500/1500 [==============================] - 4s 3ms/step - loss: 0.2676 - accuracy: 0.8979 - val_loss: 0.3637 - val_accuracy: 0.8812\n",
            "Epoch 8/50\n",
            "1500/1500 [==============================] - 4s 3ms/step - loss: 0.2561 - accuracy: 0.9028 - val_loss: 0.3164 - val_accuracy: 0.8852\n",
            "Epoch 9/50\n",
            "1500/1500 [==============================] - 4s 3ms/step - loss: 0.2462 - accuracy: 0.9065 - val_loss: 0.3235 - val_accuracy: 0.8889\n",
            "Epoch 10/50\n",
            "1500/1500 [==============================] - 4s 3ms/step - loss: 0.2349 - accuracy: 0.9116 - val_loss: 0.3160 - val_accuracy: 0.8928\n",
            "Epoch 11/50\n",
            "1500/1500 [==============================] - 4s 3ms/step - loss: 0.2254 - accuracy: 0.9142 - val_loss: 0.3241 - val_accuracy: 0.8892\n",
            "Epoch 12/50\n",
            "1500/1500 [==============================] - 4s 3ms/step - loss: 0.2173 - accuracy: 0.9169 - val_loss: 0.3213 - val_accuracy: 0.8929\n",
            "Epoch 13/50\n",
            "1500/1500 [==============================] - 4s 3ms/step - loss: 0.2115 - accuracy: 0.9196 - val_loss: 0.3261 - val_accuracy: 0.8883\n",
            "Epoch 14/50\n",
            "1500/1500 [==============================] - 4s 3ms/step - loss: 0.2016 - accuracy: 0.9225 - val_loss: 0.3323 - val_accuracy: 0.8908\n",
            "Epoch 15/50\n",
            "1500/1500 [==============================] - 4s 3ms/step - loss: 0.2019 - accuracy: 0.9238 - val_loss: 0.3436 - val_accuracy: 0.8863\n",
            "Epoch 16/50\n",
            "1500/1500 [==============================] - 4s 3ms/step - loss: 0.1917 - accuracy: 0.9273 - val_loss: 0.3446 - val_accuracy: 0.8905\n",
            "Epoch 17/50\n",
            "1500/1500 [==============================] - 4s 3ms/step - loss: 0.1873 - accuracy: 0.9289 - val_loss: 0.3392 - val_accuracy: 0.8924\n",
            "Epoch 18/50\n",
            "1500/1500 [==============================] - 4s 3ms/step - loss: 0.1788 - accuracy: 0.9310 - val_loss: 0.3643 - val_accuracy: 0.8843\n",
            "Epoch 19/50\n",
            "1500/1500 [==============================] - 4s 3ms/step - loss: 0.1760 - accuracy: 0.9324 - val_loss: 0.3634 - val_accuracy: 0.8935\n",
            "Epoch 20/50\n",
            "1500/1500 [==============================] - 4s 3ms/step - loss: 0.1699 - accuracy: 0.9351 - val_loss: 0.3628 - val_accuracy: 0.8885\n",
            "Epoch 21/50\n",
            "1500/1500 [==============================] - 4s 3ms/step - loss: 0.1671 - accuracy: 0.9354 - val_loss: 0.3534 - val_accuracy: 0.8912\n",
            "Epoch 22/50\n",
            "1500/1500 [==============================] - 4s 3ms/step - loss: 0.1578 - accuracy: 0.9401 - val_loss: 0.3834 - val_accuracy: 0.8911\n",
            "Epoch 23/50\n",
            "1500/1500 [==============================] - 4s 3ms/step - loss: 0.1561 - accuracy: 0.9410 - val_loss: 0.3947 - val_accuracy: 0.8942\n",
            "Epoch 24/50\n",
            "1500/1500 [==============================] - 4s 3ms/step - loss: 0.1503 - accuracy: 0.9424 - val_loss: 0.3884 - val_accuracy: 0.8940\n",
            "Epoch 25/50\n",
            "1500/1500 [==============================] - 4s 3ms/step - loss: 0.1501 - accuracy: 0.9425 - val_loss: 0.4239 - val_accuracy: 0.8850\n",
            "Epoch 26/50\n",
            "1500/1500 [==============================] - 4s 3ms/step - loss: 0.1461 - accuracy: 0.9430 - val_loss: 0.3975 - val_accuracy: 0.8958\n",
            "Epoch 27/50\n",
            "1500/1500 [==============================] - 4s 3ms/step - loss: 0.1399 - accuracy: 0.9458 - val_loss: 0.4491 - val_accuracy: 0.8890\n",
            "Epoch 28/50\n",
            "1500/1500 [==============================] - 4s 3ms/step - loss: 0.1361 - accuracy: 0.9487 - val_loss: 0.4073 - val_accuracy: 0.8935\n",
            "Epoch 29/50\n",
            "1500/1500 [==============================] - 4s 3ms/step - loss: 0.1363 - accuracy: 0.9476 - val_loss: 0.4241 - val_accuracy: 0.8965\n",
            "Epoch 30/50\n",
            "1500/1500 [==============================] - 4s 3ms/step - loss: 0.1319 - accuracy: 0.9503 - val_loss: 0.4412 - val_accuracy: 0.8897\n",
            "Epoch 31/50\n",
            "1500/1500 [==============================] - 4s 3ms/step - loss: 0.1304 - accuracy: 0.9506 - val_loss: 0.4391 - val_accuracy: 0.8945\n",
            "Epoch 32/50\n",
            "1500/1500 [==============================] - 4s 3ms/step - loss: 0.1249 - accuracy: 0.9521 - val_loss: 0.4519 - val_accuracy: 0.8934\n",
            "Epoch 33/50\n",
            "1500/1500 [==============================] - 4s 3ms/step - loss: 0.1246 - accuracy: 0.9531 - val_loss: 0.4773 - val_accuracy: 0.8892\n",
            "Epoch 34/50\n",
            "1500/1500 [==============================] - 4s 3ms/step - loss: 0.1219 - accuracy: 0.9534 - val_loss: 0.4306 - val_accuracy: 0.8937\n",
            "Epoch 35/50\n",
            "1500/1500 [==============================] - 4s 3ms/step - loss: 0.1176 - accuracy: 0.9545 - val_loss: 0.4528 - val_accuracy: 0.8943\n",
            "Epoch 36/50\n",
            "1500/1500 [==============================] - 4s 3ms/step - loss: 0.1109 - accuracy: 0.9577 - val_loss: 0.4808 - val_accuracy: 0.8968\n",
            "Epoch 37/50\n",
            "1500/1500 [==============================] - 4s 3ms/step - loss: 0.1137 - accuracy: 0.9571 - val_loss: 0.5138 - val_accuracy: 0.8909\n",
            "Epoch 38/50\n",
            "1500/1500 [==============================] - 4s 3ms/step - loss: 0.1106 - accuracy: 0.9576 - val_loss: 0.5120 - val_accuracy: 0.8906\n",
            "Epoch 39/50\n",
            "1500/1500 [==============================] - 4s 3ms/step - loss: 0.1081 - accuracy: 0.9581 - val_loss: 0.5329 - val_accuracy: 0.8938\n",
            "Epoch 40/50\n",
            "1500/1500 [==============================] - 5s 3ms/step - loss: 0.1075 - accuracy: 0.9583 - val_loss: 0.5684 - val_accuracy: 0.8911\n",
            "Epoch 41/50\n",
            "1500/1500 [==============================] - 4s 3ms/step - loss: 0.1033 - accuracy: 0.9613 - val_loss: 0.5574 - val_accuracy: 0.8956\n",
            "Epoch 42/50\n",
            "1500/1500 [==============================] - 4s 3ms/step - loss: 0.1034 - accuracy: 0.9600 - val_loss: 0.5591 - val_accuracy: 0.8928\n",
            "Epoch 43/50\n",
            "1500/1500 [==============================] - 4s 3ms/step - loss: 0.1017 - accuracy: 0.9613 - val_loss: 0.5596 - val_accuracy: 0.8947\n",
            "Epoch 44/50\n",
            "1500/1500 [==============================] - 4s 3ms/step - loss: 0.0971 - accuracy: 0.9629 - val_loss: 0.5462 - val_accuracy: 0.8978\n",
            "Epoch 45/50\n",
            "1500/1500 [==============================] - 4s 3ms/step - loss: 0.0914 - accuracy: 0.9645 - val_loss: 0.5527 - val_accuracy: 0.8951\n",
            "Epoch 46/50\n",
            "1500/1500 [==============================] - 4s 3ms/step - loss: 0.1003 - accuracy: 0.9630 - val_loss: 0.6172 - val_accuracy: 0.8921\n",
            "Epoch 47/50\n",
            "1500/1500 [==============================] - 4s 3ms/step - loss: 0.0959 - accuracy: 0.9647 - val_loss: 0.6123 - val_accuracy: 0.8883\n",
            "Epoch 48/50\n",
            "1500/1500 [==============================] - 4s 3ms/step - loss: 0.0888 - accuracy: 0.9669 - val_loss: 0.5675 - val_accuracy: 0.8957\n",
            "Epoch 49/50\n",
            "1500/1500 [==============================] - 4s 3ms/step - loss: 0.0918 - accuracy: 0.9653 - val_loss: 0.5581 - val_accuracy: 0.8930\n",
            "Epoch 50/50\n",
            "1500/1500 [==============================] - 4s 3ms/step - loss: 0.0872 - accuracy: 0.9660 - val_loss: 0.5827 - val_accuracy: 0.8956\n",
            "Best epoch: 44\n"
          ]
        }
      ],
      "source": [
        "# Build the model with the optimal hyperparameters and train it on the data for 50 epochs\n",
        "model = tuner.hypermodel.build(best_hps)\n",
        "history = model.fit(img_train, label_train, epochs=50, validation_split=0.2)\n",
        "\n",
        "val_acc_per_epoch = history.history['val_accuracy']\n",
        "best_epoch = val_acc_per_epoch.index(max(val_acc_per_epoch)) + 1\n",
        "print('Best epoch: %d' % (best_epoch,))"
      ]
    },
    {
      "cell_type": "markdown",
      "metadata": {
        "id": "uOTSirSTI3Gp"
      },
      "source": [
        "Re-instantiate the hypermodel and train it with the optimal number of epochs from above."
      ]
    },
    {
      "cell_type": "code",
      "execution_count": 17,
      "metadata": {
        "id": "NoiPUEHmMhCe",
        "outputId": "f24d3dc9-6dc5-4eed-a0e4-193bca74cb9c",
        "colab": {
          "base_uri": "https://localhost:8080/"
        }
      },
      "outputs": [
        {
          "output_type": "stream",
          "name": "stdout",
          "text": [
            "Epoch 1/44\n",
            "1500/1500 [==============================] - 5s 3ms/step - loss: 0.5047 - accuracy: 0.8183 - val_loss: 0.4198 - val_accuracy: 0.8468\n",
            "Epoch 2/44\n",
            "1500/1500 [==============================] - 4s 3ms/step - loss: 0.3710 - accuracy: 0.8651 - val_loss: 0.3789 - val_accuracy: 0.8585\n",
            "Epoch 3/44\n",
            "1500/1500 [==============================] - 4s 3ms/step - loss: 0.3325 - accuracy: 0.8775 - val_loss: 0.3559 - val_accuracy: 0.8734\n",
            "Epoch 4/44\n",
            "1500/1500 [==============================] - 5s 3ms/step - loss: 0.3086 - accuracy: 0.8845 - val_loss: 0.4642 - val_accuracy: 0.8425\n",
            "Epoch 5/44\n",
            "1500/1500 [==============================] - 4s 3ms/step - loss: 0.2913 - accuracy: 0.8914 - val_loss: 0.3588 - val_accuracy: 0.8714\n",
            "Epoch 6/44\n",
            "1500/1500 [==============================] - 4s 3ms/step - loss: 0.2778 - accuracy: 0.8960 - val_loss: 0.3159 - val_accuracy: 0.8892\n",
            "Epoch 7/44\n",
            "1500/1500 [==============================] - 4s 3ms/step - loss: 0.2610 - accuracy: 0.9020 - val_loss: 0.3186 - val_accuracy: 0.8887\n",
            "Epoch 8/44\n",
            "1500/1500 [==============================] - 4s 3ms/step - loss: 0.2510 - accuracy: 0.9059 - val_loss: 0.3200 - val_accuracy: 0.8882\n",
            "Epoch 9/44\n",
            "1500/1500 [==============================] - 4s 3ms/step - loss: 0.2408 - accuracy: 0.9086 - val_loss: 0.3116 - val_accuracy: 0.8906\n",
            "Epoch 10/44\n",
            "1500/1500 [==============================] - 4s 3ms/step - loss: 0.2318 - accuracy: 0.9119 - val_loss: 0.3277 - val_accuracy: 0.8887\n",
            "Epoch 11/44\n",
            "1500/1500 [==============================] - 4s 3ms/step - loss: 0.2191 - accuracy: 0.9167 - val_loss: 0.3222 - val_accuracy: 0.8910\n",
            "Epoch 12/44\n",
            "1500/1500 [==============================] - 4s 3ms/step - loss: 0.2141 - accuracy: 0.9189 - val_loss: 0.3412 - val_accuracy: 0.8906\n",
            "Epoch 13/44\n",
            "1500/1500 [==============================] - 4s 3ms/step - loss: 0.2091 - accuracy: 0.9208 - val_loss: 0.3299 - val_accuracy: 0.8947\n",
            "Epoch 14/44\n",
            "1500/1500 [==============================] - 4s 3ms/step - loss: 0.2009 - accuracy: 0.9237 - val_loss: 0.3372 - val_accuracy: 0.8923\n",
            "Epoch 15/44\n",
            "1500/1500 [==============================] - 4s 3ms/step - loss: 0.1947 - accuracy: 0.9258 - val_loss: 0.3458 - val_accuracy: 0.8911\n",
            "Epoch 16/44\n",
            "1500/1500 [==============================] - 4s 3ms/step - loss: 0.1850 - accuracy: 0.9279 - val_loss: 0.3539 - val_accuracy: 0.8932\n",
            "Epoch 17/44\n",
            "1500/1500 [==============================] - 4s 3ms/step - loss: 0.1808 - accuracy: 0.9315 - val_loss: 0.3508 - val_accuracy: 0.8902\n",
            "Epoch 18/44\n",
            "1500/1500 [==============================] - 4s 3ms/step - loss: 0.1775 - accuracy: 0.9323 - val_loss: 0.3557 - val_accuracy: 0.8913\n",
            "Epoch 19/44\n",
            "1500/1500 [==============================] - 4s 3ms/step - loss: 0.1684 - accuracy: 0.9358 - val_loss: 0.3659 - val_accuracy: 0.8915\n",
            "Epoch 20/44\n",
            "1500/1500 [==============================] - 4s 3ms/step - loss: 0.1669 - accuracy: 0.9361 - val_loss: 0.3769 - val_accuracy: 0.8946\n",
            "Epoch 21/44\n",
            "1500/1500 [==============================] - 4s 3ms/step - loss: 0.1625 - accuracy: 0.9369 - val_loss: 0.4060 - val_accuracy: 0.8821\n",
            "Epoch 22/44\n",
            "1500/1500 [==============================] - 4s 3ms/step - loss: 0.1557 - accuracy: 0.9397 - val_loss: 0.3767 - val_accuracy: 0.8970\n",
            "Epoch 23/44\n",
            "1500/1500 [==============================] - 5s 3ms/step - loss: 0.1505 - accuracy: 0.9434 - val_loss: 0.3677 - val_accuracy: 0.8932\n",
            "Epoch 24/44\n",
            "1500/1500 [==============================] - 4s 3ms/step - loss: 0.1484 - accuracy: 0.9436 - val_loss: 0.3959 - val_accuracy: 0.8931\n",
            "Epoch 25/44\n",
            "1500/1500 [==============================] - 4s 3ms/step - loss: 0.1426 - accuracy: 0.9450 - val_loss: 0.4310 - val_accuracy: 0.8950\n",
            "Epoch 26/44\n",
            "1500/1500 [==============================] - 4s 3ms/step - loss: 0.1431 - accuracy: 0.9447 - val_loss: 0.4279 - val_accuracy: 0.8938\n",
            "Epoch 27/44\n",
            "1500/1500 [==============================] - 4s 3ms/step - loss: 0.1367 - accuracy: 0.9465 - val_loss: 0.4375 - val_accuracy: 0.8963\n",
            "Epoch 28/44\n",
            "1500/1500 [==============================] - 4s 3ms/step - loss: 0.1295 - accuracy: 0.9503 - val_loss: 0.4482 - val_accuracy: 0.8927\n",
            "Epoch 29/44\n",
            "1500/1500 [==============================] - 4s 3ms/step - loss: 0.1347 - accuracy: 0.9486 - val_loss: 0.4450 - val_accuracy: 0.8942\n",
            "Epoch 30/44\n",
            "1500/1500 [==============================] - 4s 3ms/step - loss: 0.1321 - accuracy: 0.9499 - val_loss: 0.4220 - val_accuracy: 0.8943\n",
            "Epoch 31/44\n",
            "1500/1500 [==============================] - 4s 3ms/step - loss: 0.1233 - accuracy: 0.9526 - val_loss: 0.4645 - val_accuracy: 0.8933\n",
            "Epoch 32/44\n",
            "1500/1500 [==============================] - 4s 3ms/step - loss: 0.1215 - accuracy: 0.9529 - val_loss: 0.4524 - val_accuracy: 0.8916\n",
            "Epoch 33/44\n",
            "1500/1500 [==============================] - 4s 3ms/step - loss: 0.1199 - accuracy: 0.9539 - val_loss: 0.4846 - val_accuracy: 0.8913\n",
            "Epoch 34/44\n",
            "1500/1500 [==============================] - 4s 3ms/step - loss: 0.1195 - accuracy: 0.9541 - val_loss: 0.4831 - val_accuracy: 0.8956\n",
            "Epoch 35/44\n",
            "1500/1500 [==============================] - 4s 3ms/step - loss: 0.1177 - accuracy: 0.9558 - val_loss: 0.5013 - val_accuracy: 0.8957\n",
            "Epoch 36/44\n",
            "1500/1500 [==============================] - 4s 3ms/step - loss: 0.1124 - accuracy: 0.9573 - val_loss: 0.4825 - val_accuracy: 0.8974\n",
            "Epoch 37/44\n",
            "1500/1500 [==============================] - 4s 3ms/step - loss: 0.1081 - accuracy: 0.9571 - val_loss: 0.4509 - val_accuracy: 0.8946\n",
            "Epoch 38/44\n",
            "1500/1500 [==============================] - 4s 3ms/step - loss: 0.1141 - accuracy: 0.9578 - val_loss: 0.5015 - val_accuracy: 0.8937\n",
            "Epoch 39/44\n",
            "1500/1500 [==============================] - 4s 3ms/step - loss: 0.1053 - accuracy: 0.9594 - val_loss: 0.4980 - val_accuracy: 0.8977\n",
            "Epoch 40/44\n",
            "1500/1500 [==============================] - 4s 3ms/step - loss: 0.1069 - accuracy: 0.9589 - val_loss: 0.4915 - val_accuracy: 0.8959\n",
            "Epoch 41/44\n",
            "1500/1500 [==============================] - 4s 3ms/step - loss: 0.1033 - accuracy: 0.9604 - val_loss: 0.5689 - val_accuracy: 0.8829\n",
            "Epoch 42/44\n",
            "1500/1500 [==============================] - 4s 3ms/step - loss: 0.1012 - accuracy: 0.9611 - val_loss: 0.4948 - val_accuracy: 0.8988\n",
            "Epoch 43/44\n",
            "1500/1500 [==============================] - 4s 3ms/step - loss: 0.0963 - accuracy: 0.9628 - val_loss: 0.5730 - val_accuracy: 0.8889\n",
            "Epoch 44/44\n",
            "1500/1500 [==============================] - 4s 3ms/step - loss: 0.1008 - accuracy: 0.9619 - val_loss: 0.4995 - val_accuracy: 0.8953\n"
          ]
        },
        {
          "output_type": "execute_result",
          "data": {
            "text/plain": [
              "<keras.callbacks.History at 0x7fc2300be990>"
            ]
          },
          "metadata": {},
          "execution_count": 17
        }
      ],
      "source": [
        "hypermodel = tuner.hypermodel.build(best_hps)\n",
        "\n",
        "# Retrain the model\n",
        "hypermodel.fit(img_train, label_train, epochs=best_epoch, validation_split=0.2)"
      ]
    },
    {
      "cell_type": "markdown",
      "metadata": {
        "id": "MqU5ZVAaag2v"
      },
      "source": [
        "To finish this tutorial, evaluate the hypermodel on the test data."
      ]
    },
    {
      "cell_type": "code",
      "execution_count": 18,
      "metadata": {
        "id": "9E0BTp9Ealjb",
        "outputId": "560311ca-b9e7-4665-cf1b-c5f35e0501f2",
        "colab": {
          "base_uri": "https://localhost:8080/"
        }
      },
      "outputs": [
        {
          "output_type": "stream",
          "name": "stdout",
          "text": [
            "313/313 [==============================] - 1s 2ms/step - loss: 0.5527 - accuracy: 0.8900\n",
            "[test loss, test accuracy]: [0.5527311563491821, 0.8899999856948853]\n"
          ]
        }
      ],
      "source": [
        "eval_result = hypermodel.evaluate(img_test, label_test)\n",
        "print(\"[test loss, test accuracy]:\", eval_result)"
      ]
    },
    {
      "cell_type": "markdown",
      "metadata": {
        "id": "EQRpPHZsz-eC"
      },
      "source": [
        "The `my_dir/intro_to_kt` directory contains detailed logs and checkpoints for every trial (model configuration) run during the hyperparameter search. If you re-run the hyperparameter search, the Keras Tuner uses the existing state from these logs to resume the search. To disable this behavior, pass an additional `overwrite=True` argument while instantiating the tuner."
      ]
    },
    {
      "cell_type": "markdown",
      "metadata": {
        "id": "sKwLOzKpFGAj"
      },
      "source": [
        "## Summary\n",
        "\n",
        "In this tutorial, you learned how to use the Keras Tuner to tune hyperparameters for a model. To learn more about the Keras Tuner, check out these additional resources:\n",
        "\n",
        "* [Keras Tuner on the TensorFlow blog](https://blog.tensorflow.org/2020/01/hyperparameter-tuning-with-keras-tuner.html)\n",
        "* [Keras Tuner website](https://keras-team.github.io/keras-tuner/)\n",
        "\n",
        "Also check out the [HParams Dashboard](https://www.tensorflow.org/tensorboard/hyperparameter_tuning_with_hparams) in TensorBoard to interactively tune your model hyperparameters."
      ]
    }
  ],
  "metadata": {
    "accelerator": "GPU",
    "colab": {
      "collapsed_sections": [
        "Tce3stUlHN0L"
      ],
      "name": "keras_tuner.ipynb",
      "provenance": []
    },
    "kernelspec": {
      "display_name": "Python 3",
      "name": "python3"
    }
  },
  "nbformat": 4,
  "nbformat_minor": 0
}